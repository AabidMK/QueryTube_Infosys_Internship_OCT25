{
 "cells": [
  {
   "cell_type": "code",
   "execution_count": 6,
   "id": "1e52a60f-0ec9-4582-89e7-5a78261c0a0f",
   "metadata": {},
   "outputs": [],
   "source": [
    "import pandas as pd\n",
    "from sklearn.feature_extraction.text import TfidfVectorizer\n",
    "from sklearn.decomposition import TruncatedSVD\n",
    "\n",
    "# 1. Load the data\n",
    "file_name = \"G:\\\\infosys_internship\\\\yt_embedding\\\\cleaned_youtube_details.csv\"\n",
    "df = pd.read_csv(file_name)\n",
    "\n",
    "# 2. Prepare and Combine Text\n",
    "# Fill missing transcripts (NaN) with an empty string to prevent errors\n",
    "df['transcript'] = df['transcript'].fillna('')\n",
    "\n",
    "# Combine 'title' and 'transcript' into a new column 'combined_text'\n",
    "# A [SEP] (separator) token is added for clarity between the two text fields\n",
    "df['combined_text'] = df['title'].astype(str) + \" [SEP] \" + df['transcript'].astype(str)\n",
    "\n",
    "# 3. Generate Embeddings using TF-IDF and Truncated SVD\n",
    "# Step 3a: Initialize TfidfVectorizer\n",
    "# max_features is set to 5000 to limit the vocabulary size for efficiency\n",
    "tfidf_vectorizer = TfidfVectorizer(stop_words='english', max_features=5000)\n",
    "tfidf_matrix = tfidf_vectorizer.fit_transform(df['combined_text'])\n",
    "\n",
    "# Step 3b: Reduce Dimensionality using Truncated SVD\n",
    "# We reduce the feature space to 100 dimensions for our embedding vector\n",
    "n_components = 100\n",
    "svd_model = TruncatedSVD(n_components=n_components, random_state=42)\n",
    "embedding_matrix = svd_model.fit_transform(tfidf_matrix)\n",
    "\n",
    "# 4. Save the Embedding as a New Column\n",
    "# Convert the NumPy array of vectors into a list-of-lists and store it in the DataFrame\n",
    "df['text_embedding'] = [list(vec) for vec in embedding_matrix]\n",
    "\n",
    "# 5. Save the Updated DataFrame to CSV\n",
    "output_file_name = \"G:\\\\infosys_internship\\\\yt_embedding\\\\youtube_details_with_embeddings.csv\"\n",
    "df.to_csv(output_file_name, index=False)"
   ]
  },
  {
   "cell_type": "code",
   "execution_count": null,
   "id": "be573fef-e2ed-4a03-af1e-26c45e72e747",
   "metadata": {},
   "outputs": [],
   "source": []
  }
 ],
 "metadata": {
  "kernelspec": {
   "display_name": "Python 3 (ipykernel)",
   "language": "python",
   "name": "python3"
  },
  "language_info": {
   "codemirror_mode": {
    "name": "ipython",
    "version": 3
   },
   "file_extension": ".py",
   "mimetype": "text/x-python",
   "name": "python",
   "nbconvert_exporter": "python",
   "pygments_lexer": "ipython3",
   "version": "3.12.6"
  }
 },
 "nbformat": 4,
 "nbformat_minor": 5
}
