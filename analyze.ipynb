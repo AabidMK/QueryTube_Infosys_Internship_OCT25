{
 "cells": [
  {
   "cell_type": "code",
   "execution_count": 5,
   "id": "2b2f6507",
   "metadata": {},
   "outputs": [],
   "source": [
    "import pandas as pd\n",
    "import re"
   ]
  },
  {
   "cell_type": "code",
   "execution_count": 6,
   "id": "3e71d90e",
   "metadata": {},
   "outputs": [],
   "source": [
    "df=pd.read_csv('combined_data.csv')"
   ]
  },
  {
   "cell_type": "code",
   "execution_count": 9,
   "id": "185792cd",
   "metadata": {},
   "outputs": [
    {
     "data": {
      "text/plain": [
       "Index(['id', 'title', 'description', 'publishedAt', 'tags', 'categoryId',\n",
       "       'defaultLanguage', 'defaultAudioLanguage', 'thumbnail_default',\n",
       "       'thumbnail_high', 'duration', 'viewCount', 'likeCount', 'commentCount',\n",
       "       'privacyStatus', 'channel_id', 'channel_title', 'channel_description',\n",
       "       'channel_country', 'channel_thumbnail', 'channel_subscriberCount',\n",
       "       'channel_videoCount', 'transcript', 'flag'],\n",
       "      dtype='object')"
      ]
     },
     "execution_count": 9,
     "metadata": {},
     "output_type": "execute_result"
    }
   ],
   "source": [
    "df.columns"
   ]
  },
  {
   "cell_type": "code",
   "execution_count": 11,
   "id": "254188f6",
   "metadata": {},
   "outputs": [],
   "source": [
    "def clean_text(text):\n",
    "    if text is None or pd.isna(text):\n",
    "        return \"\"\n",
    "    if not isinstance(text, str):\n",
    "        text = str(text)\n",
    "    text = text.lower()\n",
    "    text = re.sub(r'[^a-zA-Z\\s]', '', text)\n",
    "    text = ' '.join(text.split())\n",
    "    return text"
   ]
  },
  {
   "cell_type": "code",
   "execution_count": 12,
   "id": "b038c947",
   "metadata": {},
   "outputs": [
    {
     "data": {
      "text/plain": [
       "'why studying bees can teach us about human loneliness sarah kocher tedxnewengland'"
      ]
     },
     "execution_count": 12,
     "metadata": {},
     "output_type": "execute_result"
    }
   ],
   "source": [
    "clean_text(\"Why studying bees can teach us about human loneliness | Sarah Kocher | TEDxNewEngland\")"
   ]
  },
  {
   "cell_type": "code",
   "execution_count": 13,
   "id": "955c9e3d",
   "metadata": {},
   "outputs": [],
   "source": [
    "df['title_cleaned'] = df['title'].apply(clean_text)\n",
    "df['description_cleaned'] = df['description'].apply(clean_text)\n",
    "df['transcript_cleaned'] = df['transcript'].apply(clean_text)"
   ]
  },
  {
   "cell_type": "code",
   "execution_count": 16,
   "id": "55ba1233",
   "metadata": {},
   "outputs": [
    {
     "data": {
      "text/plain": [
       "0    why studying bees can teach us about human lon...\n",
       "1    how accents make language more beautiful mufti...\n",
       "2    reality is made of illusionsand we need them s...\n",
       "3    what if our approach to aging is all wrong hea...\n",
       "4    naslouchejte svmu hlasu a nechte ho znt katta ...\n",
       "Name: title_cleaned, dtype: object"
      ]
     },
     "execution_count": 16,
     "metadata": {},
     "output_type": "execute_result"
    }
   ],
   "source": [
    "df[\"title_cleaned\"].head()"
   ]
  },
  {
   "cell_type": "code",
   "execution_count": 17,
   "id": "797712bc",
   "metadata": {},
   "outputs": [],
   "source": [
    "df['duration_seconds'] = pd.to_timedelta(df['duration'], errors='coerce').dt.total_seconds()"
   ]
  },
  {
   "cell_type": "code",
   "execution_count": 19,
   "id": "d45d5d34",
   "metadata": {},
   "outputs": [
    {
     "data": {
      "text/html": [
       "<div>\n",
       "<style scoped>\n",
       "    .dataframe tbody tr th:only-of-type {\n",
       "        vertical-align: middle;\n",
       "    }\n",
       "\n",
       "    .dataframe tbody tr th {\n",
       "        vertical-align: top;\n",
       "    }\n",
       "\n",
       "    .dataframe thead th {\n",
       "        text-align: right;\n",
       "    }\n",
       "</style>\n",
       "<table border=\"1\" class=\"dataframe\">\n",
       "  <thead>\n",
       "    <tr style=\"text-align: right;\">\n",
       "      <th></th>\n",
       "      <th>duration</th>\n",
       "      <th>duration_seconds</th>\n",
       "    </tr>\n",
       "  </thead>\n",
       "  <tbody>\n",
       "    <tr>\n",
       "      <th>0</th>\n",
       "      <td>PT15M27S</td>\n",
       "      <td>927.0</td>\n",
       "    </tr>\n",
       "    <tr>\n",
       "      <th>1</th>\n",
       "      <td>PT12M40S</td>\n",
       "      <td>760.0</td>\n",
       "    </tr>\n",
       "    <tr>\n",
       "      <th>2</th>\n",
       "      <td>PT17M41S</td>\n",
       "      <td>1061.0</td>\n",
       "    </tr>\n",
       "    <tr>\n",
       "      <th>3</th>\n",
       "      <td>PT18M</td>\n",
       "      <td>1080.0</td>\n",
       "    </tr>\n",
       "    <tr>\n",
       "      <th>4</th>\n",
       "      <td>PT18M37S</td>\n",
       "      <td>1117.0</td>\n",
       "    </tr>\n",
       "  </tbody>\n",
       "</table>\n",
       "</div>"
      ],
      "text/plain": [
       "   duration  duration_seconds\n",
       "0  PT15M27S             927.0\n",
       "1  PT12M40S             760.0\n",
       "2  PT17M41S            1061.0\n",
       "3     PT18M            1080.0\n",
       "4  PT18M37S            1117.0"
      ]
     },
     "execution_count": 19,
     "metadata": {},
     "output_type": "execute_result"
    }
   ],
   "source": [
    "df[['duration','duration_seconds']].head()"
   ]
  },
  {
   "cell_type": "code",
   "execution_count": null,
   "id": "208359ef",
   "metadata": {},
   "outputs": [],
   "source": []
  }
 ],
 "metadata": {
  "kernelspec": {
   "display_name": "Python 3",
   "language": "python",
   "name": "python3"
  },
  "language_info": {
   "codemirror_mode": {
    "name": "ipython",
    "version": 3
   },
   "file_extension": ".py",
   "mimetype": "text/x-python",
   "name": "python",
   "nbconvert_exporter": "python",
   "pygments_lexer": "ipython3",
   "version": "3.13.7"
  }
 },
 "nbformat": 4,
 "nbformat_minor": 5
}
