{
 "cells": [
  {
   "cell_type": "code",
   "execution_count": 1,
   "id": "e66e1133-d5c3-42d9-b0e5-b47a25832b9f",
   "metadata": {},
   "outputs": [
    {
     "name": "stdout",
     "output_type": "stream",
     "text": [
      "✅ Cleaned CSV saved to: G:\\infosys_internship\\ytcleaneddata\\cleaned_youtube_details.csv\n"
     ]
    }
   ],
   "source": [
    "import pandas as pd\n",
    "import re\n",
    "\n",
    "# -----------------------------\n",
    "# Function to clean text columns\n",
    "# -----------------------------\n",
    "def clean_text(text):\n",
    "    if pd.isna(text):\n",
    "        return \"\"\n",
    "    # Remove special characters except spaces and basic punctuation\n",
    "    text = re.sub(r'[^a-zA-Z0-9\\s,.!?]', '', text)\n",
    "    # Convert to lowercase\n",
    "    return text.lower().strip()\n",
    "\n",
    "# -----------------------------\n",
    "# Function to convert duration into seconds\n",
    "# -----------------------------\n",
    "def duration_to_seconds(duration):\n",
    "    if pd.isna(duration):\n",
    "        return 0\n",
    "\n",
    "    duration = str(duration).strip()\n",
    "\n",
    "    # If format is HH:MM:SS\n",
    "    if re.match(r'^\\d{1,2}:\\d{2}:\\d{2}$', duration):\n",
    "        h, m, s = map(int, duration.split(':'))\n",
    "        return h * 3600 + m * 60 + s\n",
    "\n",
    "    # If format is YouTube ISO 8601 (PT#H#M#S)\n",
    "    match = re.match(r'PT(?:(\\d+)H)?(?:(\\d+)M)?(?:(\\d+)S)?', duration)\n",
    "    if match:\n",
    "        hours = int(match.group(1) or 0)\n",
    "        minutes = int(match.group(2) or 0)\n",
    "        seconds = int(match.group(3) or 0)\n",
    "        return hours * 3600 + minutes * 60 + seconds\n",
    "\n",
    "    # Otherwise, try numeric\n",
    "    if duration.isdigit():\n",
    "        return int(duration)\n",
    "\n",
    "    return 0  # default fallback\n",
    "\n",
    "# -----------------------------\n",
    "# Main Script\n",
    "# -----------------------------\n",
    "def clean_csv(input_path, output_path):\n",
    "    # Read CSV\n",
    "    df = pd.read_csv(input_path)\n",
    "\n",
    "    # Clean columns if they exist\n",
    "    if 'title' in df.columns:\n",
    "        df['title'] = df['title'].apply(clean_text)\n",
    "\n",
    "    if 'transcript' in df.columns:\n",
    "        df['transcript'] = df['transcript'].apply(clean_text)\n",
    "\n",
    "    if 'duration' in df.columns:\n",
    "        df['duration_seconds'] = df['duration'].apply(duration_to_seconds)\n",
    "\n",
    "    # Save cleaned CSV\n",
    "    df.to_csv(output_path, index=False, encoding='utf-8')\n",
    "    print(f\"✅ Cleaned CSV saved to: {output_path}\")\n",
    "\n",
    "\n",
    "# -----------------------------\n",
    "# Example usage\n",
    "# -----------------------------\n",
    "if __name__ == \"__main__\":\n",
    "    input_csv = r\"G:\\infosys_internship\\ytcleaneddata\\master_dataset_updated.csv\"  # change path as needed\n",
    "    output_csv = r\"G:\\infosys_internship\\ytcleaneddata\\cleaned_youtube_details.csv\"\n",
    "    clean_csv(input_csv, output_csv)\n"
   ]
  },
  {
   "cell_type": "code",
   "execution_count": null,
   "id": "b58c17c6-f48f-4093-9775-2fec681c0b47",
   "metadata": {},
   "outputs": [],
   "source": []
  }
 ],
 "metadata": {
  "kernelspec": {
   "display_name": "Python 3 (ipykernel)",
   "language": "python",
   "name": "python3"
  },
  "language_info": {
   "codemirror_mode": {
    "name": "ipython",
    "version": 3
   },
   "file_extension": ".py",
   "mimetype": "text/x-python",
   "name": "python",
   "nbconvert_exporter": "python",
   "pygments_lexer": "ipython3",
   "version": "3.12.6"
  }
 },
 "nbformat": 4,
 "nbformat_minor": 5
}
