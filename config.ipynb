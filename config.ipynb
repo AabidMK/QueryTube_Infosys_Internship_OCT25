{
 "cells": [
  {
   "cell_type": "code",
   "execution_count": 2,
   "id": "8492160f",
   "metadata": {},
   "outputs": [],
   "source": [
    "import pandas as pd"
   ]
  },
  {
   "cell_type": "code",
   "execution_count": 3,
   "id": "18620d02",
   "metadata": {},
   "outputs": [],
   "source": [
    "df=pd.read_csv(\"Tedx_talks_data(1).csv\")"
   ]
  },
  {
   "cell_type": "code",
   "execution_count": 4,
   "id": "c9718147",
   "metadata": {},
   "outputs": [
    {
     "data": {
      "text/plain": [
       "Index(['id', 'title', 'description', 'publishedAt', 'tags', 'categoryId',\n",
       "       'defaultLanguage', 'defaultAudioLanguage', 'thumbnail_default',\n",
       "       'thumbnail_high', 'duration', 'viewCount', 'likeCount', 'commentCount',\n",
       "       'privacyStatus', 'channel_id', 'channel_title', 'channel_description',\n",
       "       'channel_country', 'channel_thumbnail', 'channel_subscriberCount',\n",
       "       'channel_videoCount'],\n",
       "      dtype='object')"
      ]
     },
     "execution_count": 4,
     "metadata": {},
     "output_type": "execute_result"
    }
   ],
   "source": [
    "df.columns"
   ]
  },
  {
   "cell_type": "code",
   "execution_count": 5,
   "id": "4aff3972",
   "metadata": {},
   "outputs": [
    {
     "data": {
      "text/plain": [
       "['VmZtY4L7-Us',\n",
       " 'gYpq1_omxOg',\n",
       " 'FzDw07RqCSs',\n",
       " 'UxiiUkQeP4Y',\n",
       " '9-nPAI3FKC4',\n",
       " 'Z072NQHoyew',\n",
       " '0ACj33ZuRdw',\n",
       " 'fsZYkl2eZE4',\n",
       " 'c0mOukMBQUw',\n",
       " 'sk4iTkZrCio',\n",
       " 'qyZ2XnMPqFU',\n",
       " 'F2KHXITEOyk',\n",
       " 'YSFpfpE53KA',\n",
       " 'mVWI_tNjfqo',\n",
       " '-78c0VbF_aM',\n",
       " '1FFx3KfWQKQ',\n",
       " '1rnvvwpPNmo',\n",
       " 'I7zYxyY7NfU',\n",
       " 'IAjFfVXGJt4',\n",
       " 'V5Mnviy6JTM',\n",
       " 'OeuOVHL_RmE',\n",
       " 'mZcNt4V7rGA',\n",
       " '1KRBf1L0tOQ',\n",
       " 'Ieo71j-gU1A',\n",
       " 'iEk86aZbk7w',\n",
       " '9osOUvcktWw',\n",
       " 'NDWnYaMy77o',\n",
       " 'eSfvP7Gv7Gw',\n",
       " 'FLFTEqrMV0k',\n",
       " 'wkObrT868fA',\n",
       " 'RuoyWcqiCeo',\n",
       " 'eLv5pz10UEM',\n",
       " 'j9wu1Zn8XmY',\n",
       " 'ZAKqX1vZ1IE',\n",
       " 'O-Fqd1iJm6o',\n",
       " 'cjwm5oCU8eQ',\n",
       " 'WaD6umPjHhc',\n",
       " 'WmWYMFQpfFk',\n",
       " 'M2nma64bWPk',\n",
       " 'LOo0ZB6BOnQ',\n",
       " 'prCj0ZEsYhM',\n",
       " 'twsMybtnSSc',\n",
       " 'ogaeRlGLO28',\n",
       " 'vc8qy9bJnNc',\n",
       " 'PfHLNkR05Mc',\n",
       " 'es34tuBMNSM',\n",
       " 'izPWpcGDZrk',\n",
       " 'DWpmlwZ24Mg',\n",
       " 'LtPP_mc9kx8',\n",
       " 'K3ejA0b54PU']"
      ]
     },
     "execution_count": 5,
     "metadata": {},
     "output_type": "execute_result"
    }
   ],
   "source": [
    "df[\"id\"].tolist()"
   ]
  },
  {
   "cell_type": "code",
   "execution_count": 3,
   "id": "3dae61a1",
   "metadata": {},
   "outputs": [],
   "source": [
    "df_transcripts=pd.read_csv(\"english_video_transcripts.csv\")"
   ]
  },
  {
   "cell_type": "code",
   "execution_count": 4,
   "id": "2ab13dc8",
   "metadata": {},
   "outputs": [],
   "source": [
    "df_transcripts.drop('raw_transcript', axis=1, inplace=True)"
   ]
  },
  {
   "cell_type": "code",
   "execution_count": 5,
   "id": "70994fcb",
   "metadata": {},
   "outputs": [
    {
     "data": {
      "text/html": [
       "<div>\n",
       "<style scoped>\n",
       "    .dataframe tbody tr th:only-of-type {\n",
       "        vertical-align: middle;\n",
       "    }\n",
       "\n",
       "    .dataframe tbody tr th {\n",
       "        vertical-align: top;\n",
       "    }\n",
       "\n",
       "    .dataframe thead th {\n",
       "        text-align: right;\n",
       "    }\n",
       "</style>\n",
       "<table border=\"1\" class=\"dataframe\">\n",
       "  <thead>\n",
       "    <tr style=\"text-align: right;\">\n",
       "      <th></th>\n",
       "      <th>video_id</th>\n",
       "      <th>cleaned_transcript</th>\n",
       "      <th>status</th>\n",
       "      <th>word_count</th>\n",
       "      <th>language_notes</th>\n",
       "    </tr>\n",
       "  </thead>\n",
       "  <tbody>\n",
       "    <tr>\n",
       "      <th>0</th>\n",
       "      <td>VmZtY4L7-Us</td>\n",
       "      <td>Did you know that strong social bonds can be a...</td>\n",
       "      <td>success</td>\n",
       "      <td>2478</td>\n",
       "      <td>English content found</td>\n",
       "    </tr>\n",
       "    <tr>\n",
       "      <th>1</th>\n",
       "      <td>gYpq1_omxOg</td>\n",
       "      <td>Imagine being at a water park, a place where j...</td>\n",
       "      <td>success</td>\n",
       "      <td>1214</td>\n",
       "      <td>English content found</td>\n",
       "    </tr>\n",
       "    <tr>\n",
       "      <th>2</th>\n",
       "      <td>FzDw07RqCSs</td>\n",
       "      <td>years ago I took my mother on a trip to Las Ve...</td>\n",
       "      <td>success</td>\n",
       "      <td>2512</td>\n",
       "      <td>English content found</td>\n",
       "    </tr>\n",
       "    <tr>\n",
       "      <th>3</th>\n",
       "      <td>UxiiUkQeP4Y</td>\n",
       "      <td>We talk about adolescence as a messy, emotiona...</td>\n",
       "      <td>success</td>\n",
       "      <td>2208</td>\n",
       "      <td>English content found</td>\n",
       "    </tr>\n",
       "    <tr>\n",
       "      <th>4</th>\n",
       "      <td>9-nPAI3FKC4</td>\n",
       "      <td>NaN</td>\n",
       "      <td>success</td>\n",
       "      <td>0</td>\n",
       "      <td>No English content found in transcript</td>\n",
       "    </tr>\n",
       "  </tbody>\n",
       "</table>\n",
       "</div>"
      ],
      "text/plain": [
       "      video_id                                 cleaned_transcript   status  \\\n",
       "0  VmZtY4L7-Us  Did you know that strong social bonds can be a...  success   \n",
       "1  gYpq1_omxOg  Imagine being at a water park, a place where j...  success   \n",
       "2  FzDw07RqCSs  years ago I took my mother on a trip to Las Ve...  success   \n",
       "3  UxiiUkQeP4Y  We talk about adolescence as a messy, emotiona...  success   \n",
       "4  9-nPAI3FKC4                                                NaN  success   \n",
       "\n",
       "   word_count                          language_notes  \n",
       "0        2478                   English content found  \n",
       "1        1214                   English content found  \n",
       "2        2512                   English content found  \n",
       "3        2208                   English content found  \n",
       "4           0  No English content found in transcript  "
      ]
     },
     "execution_count": 5,
     "metadata": {},
     "output_type": "execute_result"
    }
   ],
   "source": [
    "df_transcripts.head()"
   ]
  },
  {
   "cell_type": "code",
   "execution_count": 6,
   "id": "69b2a267",
   "metadata": {},
   "outputs": [],
   "source": [
    "df_transcripts.to_csv('cleaned_transcripts.csv', index=False)"
   ]
  },
  {
   "cell_type": "code",
   "execution_count": null,
   "id": "1b3ebb5c",
   "metadata": {},
   "outputs": [],
   "source": []
  }
 ],
 "metadata": {
  "kernelspec": {
   "display_name": "Python 3",
   "language": "python",
   "name": "python3"
  },
  "language_info": {
   "codemirror_mode": {
    "name": "ipython",
    "version": 3
   },
   "file_extension": ".py",
   "mimetype": "text/x-python",
   "name": "python",
   "nbconvert_exporter": "python",
   "pygments_lexer": "ipython3",
   "version": "3.13.7"
  }
 },
 "nbformat": 4,
 "nbformat_minor": 5
}
