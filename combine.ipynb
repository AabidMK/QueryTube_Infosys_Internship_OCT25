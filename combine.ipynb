{
 "cells": [
  {
   "cell_type": "code",
   "execution_count": 46,
   "id": "93ed285d",
   "metadata": {},
   "outputs": [],
   "source": [
    "import pandas as pd"
   ]
  },
  {
   "cell_type": "code",
   "execution_count": 47,
   "id": "e874ee05",
   "metadata": {},
   "outputs": [],
   "source": [
    "details_df=pd.read_csv('Tedx_talks_data(1).csv')"
   ]
  },
  {
   "cell_type": "code",
   "execution_count": 48,
   "id": "e9d2b095",
   "metadata": {},
   "outputs": [
    {
     "data": {
      "text/plain": [
       "Index(['id', 'title', 'description', 'publishedAt', 'tags', 'categoryId',\n",
       "       'defaultLanguage', 'defaultAudioLanguage', 'thumbnail_default',\n",
       "       'thumbnail_high', 'duration', 'viewCount', 'likeCount', 'commentCount',\n",
       "       'privacyStatus', 'channel_id', 'channel_title', 'channel_description',\n",
       "       'channel_country', 'channel_thumbnail', 'channel_subscriberCount',\n",
       "       'channel_videoCount'],\n",
       "      dtype='object')"
      ]
     },
     "execution_count": 48,
     "metadata": {},
     "output_type": "execute_result"
    }
   ],
   "source": [
    "details_df.columns"
   ]
  },
  {
   "cell_type": "code",
   "execution_count": 49,
   "id": "b38e3c1e",
   "metadata": {},
   "outputs": [],
   "source": [
    "trans_df=pd.read_csv('cleaned_transcripts.csv')"
   ]
  },
  {
   "cell_type": "code",
   "execution_count": 50,
   "id": "41d2b829",
   "metadata": {},
   "outputs": [
    {
     "data": {
      "text/plain": [
       "Index(['video_id', 'cleaned_transcript', 'status', 'word_count',\n",
       "       'language_notes'],\n",
       "      dtype='object')"
      ]
     },
     "execution_count": 50,
     "metadata": {},
     "output_type": "execute_result"
    }
   ],
   "source": [
    "trans_df.columns"
   ]
  },
  {
   "cell_type": "code",
   "execution_count": 51,
   "id": "3dd44823",
   "metadata": {},
   "outputs": [],
   "source": [
    "combined_df=pd.merge(details_df,trans_df[['video_id','cleaned_transcript']],\n",
    "left_on='id',right_on='video_id',how='left')"
   ]
  },
  {
   "cell_type": "code",
   "execution_count": 52,
   "id": "eb4f8eb3",
   "metadata": {},
   "outputs": [],
   "source": [
    "combined_df.drop(['video_id'],axis=1,inplace=True)"
   ]
  },
  {
   "cell_type": "code",
   "execution_count": 53,
   "id": "039ec129",
   "metadata": {},
   "outputs": [],
   "source": [
    "combined_df=combined_df.rename(columns={'cleaned_transcript':'transcript'})"
   ]
  },
  {
   "cell_type": "code",
   "execution_count": 54,
   "id": "90d6668e",
   "metadata": {},
   "outputs": [
    {
     "data": {
      "text/plain": [
       "Index(['id', 'title', 'description', 'publishedAt', 'tags', 'categoryId',\n",
       "       'defaultLanguage', 'defaultAudioLanguage', 'thumbnail_default',\n",
       "       'thumbnail_high', 'duration', 'viewCount', 'likeCount', 'commentCount',\n",
       "       'privacyStatus', 'channel_id', 'channel_title', 'channel_description',\n",
       "       'channel_country', 'channel_thumbnail', 'channel_subscriberCount',\n",
       "       'channel_videoCount', 'transcript'],\n",
       "      dtype='object')"
      ]
     },
     "execution_count": 54,
     "metadata": {},
     "output_type": "execute_result"
    }
   ],
   "source": [
    "combined_df.columns"
   ]
  },
  {
   "cell_type": "code",
   "execution_count": 55,
   "id": "fcdfb202",
   "metadata": {},
   "outputs": [],
   "source": [
    "combined_df['flag'] = combined_df['transcript'].notna().astype(int)"
   ]
  },
  {
   "cell_type": "code",
   "execution_count": 56,
   "id": "e65faeb0",
   "metadata": {},
   "outputs": [
    {
     "data": {
      "text/plain": [
       "Index(['id', 'title', 'description', 'publishedAt', 'tags', 'categoryId',\n",
       "       'defaultLanguage', 'defaultAudioLanguage', 'thumbnail_default',\n",
       "       'thumbnail_high', 'duration', 'viewCount', 'likeCount', 'commentCount',\n",
       "       'privacyStatus', 'channel_id', 'channel_title', 'channel_description',\n",
       "       'channel_country', 'channel_thumbnail', 'channel_subscriberCount',\n",
       "       'channel_videoCount', 'transcript', 'flag'],\n",
       "      dtype='object')"
      ]
     },
     "execution_count": 56,
     "metadata": {},
     "output_type": "execute_result"
    }
   ],
   "source": [
    "combined_df.columns"
   ]
  },
  {
   "cell_type": "code",
   "execution_count": 57,
   "id": "ea2cde1b",
   "metadata": {},
   "outputs": [
    {
     "data": {
      "text/html": [
       "<div>\n",
       "<style scoped>\n",
       "    .dataframe tbody tr th:only-of-type {\n",
       "        vertical-align: middle;\n",
       "    }\n",
       "\n",
       "    .dataframe tbody tr th {\n",
       "        vertical-align: top;\n",
       "    }\n",
       "\n",
       "    .dataframe thead th {\n",
       "        text-align: right;\n",
       "    }\n",
       "</style>\n",
       "<table border=\"1\" class=\"dataframe\">\n",
       "  <thead>\n",
       "    <tr style=\"text-align: right;\">\n",
       "      <th></th>\n",
       "      <th>id</th>\n",
       "      <th>title</th>\n",
       "      <th>description</th>\n",
       "      <th>publishedAt</th>\n",
       "      <th>tags</th>\n",
       "      <th>categoryId</th>\n",
       "      <th>defaultLanguage</th>\n",
       "      <th>defaultAudioLanguage</th>\n",
       "      <th>thumbnail_default</th>\n",
       "      <th>thumbnail_high</th>\n",
       "      <th>...</th>\n",
       "      <th>privacyStatus</th>\n",
       "      <th>channel_id</th>\n",
       "      <th>channel_title</th>\n",
       "      <th>channel_description</th>\n",
       "      <th>channel_country</th>\n",
       "      <th>channel_thumbnail</th>\n",
       "      <th>channel_subscriberCount</th>\n",
       "      <th>channel_videoCount</th>\n",
       "      <th>transcript</th>\n",
       "      <th>flag</th>\n",
       "    </tr>\n",
       "  </thead>\n",
       "  <tbody>\n",
       "    <tr>\n",
       "      <th>0</th>\n",
       "      <td>VmZtY4L7-Us</td>\n",
       "      <td>Why studying bees can teach us about human lon...</td>\n",
       "      <td>Social interactions are essential for the surv...</td>\n",
       "      <td>2025-10-19T17:00:40Z</td>\n",
       "      <td>Bees|Behavior|Cooperation|English|Evolution|Ne...</td>\n",
       "      <td>29</td>\n",
       "      <td>en</td>\n",
       "      <td>en</td>\n",
       "      <td>https://i.ytimg.com/vi/VmZtY4L7-Us/default.jpg</td>\n",
       "      <td>https://i.ytimg.com/vi/VmZtY4L7-Us/hqdefault.jpg</td>\n",
       "      <td>...</td>\n",
       "      <td>public</td>\n",
       "      <td>UCsT0YIqwnpJCM-mx7-gSA4Q</td>\n",
       "      <td>TEDx Talks</td>\n",
       "      <td>TEDx is an international community that organi...</td>\n",
       "      <td>NaN</td>\n",
       "      <td>https://yt3.ggpht.com/1gDPO-4YPWFErfn3yQBnv0yx...</td>\n",
       "      <td>43700000</td>\n",
       "      <td>245636</td>\n",
       "      <td>Did you know that strong social bonds can be a...</td>\n",
       "      <td>1</td>\n",
       "    </tr>\n",
       "    <tr>\n",
       "      <th>1</th>\n",
       "      <td>gYpq1_omxOg</td>\n",
       "      <td>How accents make language more beautiful | Muf...</td>\n",
       "      <td>Imagine a world where everyone sounds the same...</td>\n",
       "      <td>2025-10-18T17:00:53Z</td>\n",
       "      <td>Acceptance|Communication|Curiosity|English|Her...</td>\n",
       "      <td>29</td>\n",
       "      <td>en</td>\n",
       "      <td>en</td>\n",
       "      <td>https://i.ytimg.com/vi/gYpq1_omxOg/default.jpg</td>\n",
       "      <td>https://i.ytimg.com/vi/gYpq1_omxOg/hqdefault.jpg</td>\n",
       "      <td>...</td>\n",
       "      <td>public</td>\n",
       "      <td>UCsT0YIqwnpJCM-mx7-gSA4Q</td>\n",
       "      <td>TEDx Talks</td>\n",
       "      <td>TEDx is an international community that organi...</td>\n",
       "      <td>NaN</td>\n",
       "      <td>https://yt3.ggpht.com/1gDPO-4YPWFErfn3yQBnv0yx...</td>\n",
       "      <td>43700000</td>\n",
       "      <td>245636</td>\n",
       "      <td>Imagine being at a water park, a place where j...</td>\n",
       "      <td>1</td>\n",
       "    </tr>\n",
       "    <tr>\n",
       "      <th>2</th>\n",
       "      <td>FzDw07RqCSs</td>\n",
       "      <td>Reality is made of illusions—and we need them ...</td>\n",
       "      <td>Is what we see indeed reality? How do our perc...</td>\n",
       "      <td>2025-10-17T17:00:20Z</td>\n",
       "      <td>Brain|English|Interpretation|Perception|Scienc...</td>\n",
       "      <td>29</td>\n",
       "      <td>en</td>\n",
       "      <td>en</td>\n",
       "      <td>https://i.ytimg.com/vi/FzDw07RqCSs/default.jpg</td>\n",
       "      <td>https://i.ytimg.com/vi/FzDw07RqCSs/hqdefault.jpg</td>\n",
       "      <td>...</td>\n",
       "      <td>public</td>\n",
       "      <td>UCsT0YIqwnpJCM-mx7-gSA4Q</td>\n",
       "      <td>TEDx Talks</td>\n",
       "      <td>TEDx is an international community that organi...</td>\n",
       "      <td>NaN</td>\n",
       "      <td>https://yt3.ggpht.com/1gDPO-4YPWFErfn3yQBnv0yx...</td>\n",
       "      <td>43700000</td>\n",
       "      <td>245636</td>\n",
       "      <td>years ago I took my mother on a trip to Las Ve...</td>\n",
       "      <td>1</td>\n",
       "    </tr>\n",
       "    <tr>\n",
       "      <th>3</th>\n",
       "      <td>UxiiUkQeP4Y</td>\n",
       "      <td>What If Our Approach to Aging Is All Wrong? | ...</td>\n",
       "      <td>We recognize adolescence as a pivotal stage of...</td>\n",
       "      <td>2025-10-17T16:39:47Z</td>\n",
       "      <td>Aging|Elderly|English|Family|Social Sciences|T...</td>\n",
       "      <td>29</td>\n",
       "      <td>en</td>\n",
       "      <td>en</td>\n",
       "      <td>https://i.ytimg.com/vi/UxiiUkQeP4Y/default.jpg</td>\n",
       "      <td>https://i.ytimg.com/vi/UxiiUkQeP4Y/hqdefault.jpg</td>\n",
       "      <td>...</td>\n",
       "      <td>public</td>\n",
       "      <td>UCsT0YIqwnpJCM-mx7-gSA4Q</td>\n",
       "      <td>TEDx Talks</td>\n",
       "      <td>TEDx is an international community that organi...</td>\n",
       "      <td>NaN</td>\n",
       "      <td>https://yt3.ggpht.com/1gDPO-4YPWFErfn3yQBnv0yx...</td>\n",
       "      <td>43700000</td>\n",
       "      <td>245636</td>\n",
       "      <td>We talk about adolescence as a messy, emotiona...</td>\n",
       "      <td>1</td>\n",
       "    </tr>\n",
       "    <tr>\n",
       "      <th>4</th>\n",
       "      <td>9-nPAI3FKC4</td>\n",
       "      <td>Naslouchejte svému hlasu a nechte ho znít | Ka...</td>\n",
       "      <td>Jak se prosadit v konzervativním maskulinním p...</td>\n",
       "      <td>2025-10-17T16:38:54Z</td>\n",
       "      <td>Acceptance|Art|Czech|Innovation|Music (perform...</td>\n",
       "      <td>29</td>\n",
       "      <td>cs</td>\n",
       "      <td>cs</td>\n",
       "      <td>https://i.ytimg.com/vi/9-nPAI3FKC4/default.jpg</td>\n",
       "      <td>https://i.ytimg.com/vi/9-nPAI3FKC4/hqdefault.jpg</td>\n",
       "      <td>...</td>\n",
       "      <td>public</td>\n",
       "      <td>UCsT0YIqwnpJCM-mx7-gSA4Q</td>\n",
       "      <td>TEDx Talks</td>\n",
       "      <td>TEDx is an international community that organi...</td>\n",
       "      <td>NaN</td>\n",
       "      <td>https://yt3.ggpht.com/1gDPO-4YPWFErfn3yQBnv0yx...</td>\n",
       "      <td>43700000</td>\n",
       "      <td>245636</td>\n",
       "      <td>NaN</td>\n",
       "      <td>0</td>\n",
       "    </tr>\n",
       "  </tbody>\n",
       "</table>\n",
       "<p>5 rows × 24 columns</p>\n",
       "</div>"
      ],
      "text/plain": [
       "            id                                              title  \\\n",
       "0  VmZtY4L7-Us  Why studying bees can teach us about human lon...   \n",
       "1  gYpq1_omxOg  How accents make language more beautiful | Muf...   \n",
       "2  FzDw07RqCSs  Reality is made of illusions—and we need them ...   \n",
       "3  UxiiUkQeP4Y  What If Our Approach to Aging Is All Wrong? | ...   \n",
       "4  9-nPAI3FKC4  Naslouchejte svému hlasu a nechte ho znít | Ka...   \n",
       "\n",
       "                                         description           publishedAt  \\\n",
       "0  Social interactions are essential for the surv...  2025-10-19T17:00:40Z   \n",
       "1  Imagine a world where everyone sounds the same...  2025-10-18T17:00:53Z   \n",
       "2  Is what we see indeed reality? How do our perc...  2025-10-17T17:00:20Z   \n",
       "3  We recognize adolescence as a pivotal stage of...  2025-10-17T16:39:47Z   \n",
       "4  Jak se prosadit v konzervativním maskulinním p...  2025-10-17T16:38:54Z   \n",
       "\n",
       "                                                tags  categoryId  \\\n",
       "0  Bees|Behavior|Cooperation|English|Evolution|Ne...          29   \n",
       "1  Acceptance|Communication|Curiosity|English|Her...          29   \n",
       "2  Brain|English|Interpretation|Perception|Scienc...          29   \n",
       "3  Aging|Elderly|English|Family|Social Sciences|T...          29   \n",
       "4  Acceptance|Art|Czech|Innovation|Music (perform...          29   \n",
       "\n",
       "  defaultLanguage defaultAudioLanguage  \\\n",
       "0              en                   en   \n",
       "1              en                   en   \n",
       "2              en                   en   \n",
       "3              en                   en   \n",
       "4              cs                   cs   \n",
       "\n",
       "                                thumbnail_default  \\\n",
       "0  https://i.ytimg.com/vi/VmZtY4L7-Us/default.jpg   \n",
       "1  https://i.ytimg.com/vi/gYpq1_omxOg/default.jpg   \n",
       "2  https://i.ytimg.com/vi/FzDw07RqCSs/default.jpg   \n",
       "3  https://i.ytimg.com/vi/UxiiUkQeP4Y/default.jpg   \n",
       "4  https://i.ytimg.com/vi/9-nPAI3FKC4/default.jpg   \n",
       "\n",
       "                                     thumbnail_high  ... privacyStatus  \\\n",
       "0  https://i.ytimg.com/vi/VmZtY4L7-Us/hqdefault.jpg  ...        public   \n",
       "1  https://i.ytimg.com/vi/gYpq1_omxOg/hqdefault.jpg  ...        public   \n",
       "2  https://i.ytimg.com/vi/FzDw07RqCSs/hqdefault.jpg  ...        public   \n",
       "3  https://i.ytimg.com/vi/UxiiUkQeP4Y/hqdefault.jpg  ...        public   \n",
       "4  https://i.ytimg.com/vi/9-nPAI3FKC4/hqdefault.jpg  ...        public   \n",
       "\n",
       "                 channel_id  channel_title  \\\n",
       "0  UCsT0YIqwnpJCM-mx7-gSA4Q     TEDx Talks   \n",
       "1  UCsT0YIqwnpJCM-mx7-gSA4Q     TEDx Talks   \n",
       "2  UCsT0YIqwnpJCM-mx7-gSA4Q     TEDx Talks   \n",
       "3  UCsT0YIqwnpJCM-mx7-gSA4Q     TEDx Talks   \n",
       "4  UCsT0YIqwnpJCM-mx7-gSA4Q     TEDx Talks   \n",
       "\n",
       "                                 channel_description channel_country  \\\n",
       "0  TEDx is an international community that organi...             NaN   \n",
       "1  TEDx is an international community that organi...             NaN   \n",
       "2  TEDx is an international community that organi...             NaN   \n",
       "3  TEDx is an international community that organi...             NaN   \n",
       "4  TEDx is an international community that organi...             NaN   \n",
       "\n",
       "                                   channel_thumbnail channel_subscriberCount  \\\n",
       "0  https://yt3.ggpht.com/1gDPO-4YPWFErfn3yQBnv0yx...                43700000   \n",
       "1  https://yt3.ggpht.com/1gDPO-4YPWFErfn3yQBnv0yx...                43700000   \n",
       "2  https://yt3.ggpht.com/1gDPO-4YPWFErfn3yQBnv0yx...                43700000   \n",
       "3  https://yt3.ggpht.com/1gDPO-4YPWFErfn3yQBnv0yx...                43700000   \n",
       "4  https://yt3.ggpht.com/1gDPO-4YPWFErfn3yQBnv0yx...                43700000   \n",
       "\n",
       "  channel_videoCount                                         transcript flag  \n",
       "0             245636  Did you know that strong social bonds can be a...    1  \n",
       "1             245636  Imagine being at a water park, a place where j...    1  \n",
       "2             245636  years ago I took my mother on a trip to Las Ve...    1  \n",
       "3             245636  We talk about adolescence as a messy, emotiona...    1  \n",
       "4             245636                                                NaN    0  \n",
       "\n",
       "[5 rows x 24 columns]"
      ]
     },
     "execution_count": 57,
     "metadata": {},
     "output_type": "execute_result"
    }
   ],
   "source": [
    "combined_df.head()"
   ]
  },
  {
   "cell_type": "code",
   "execution_count": 58,
   "id": "65d24a1e",
   "metadata": {},
   "outputs": [],
   "source": [
    "combined_df.to_csv('combined_data.csv', index=False)"
   ]
  },
  {
   "cell_type": "code",
   "execution_count": null,
   "id": "355b2483",
   "metadata": {},
   "outputs": [],
   "source": []
  },
  {
   "cell_type": "code",
   "execution_count": null,
   "id": "6d043493",
   "metadata": {},
   "outputs": [],
   "source": []
  }
 ],
 "metadata": {
  "kernelspec": {
   "display_name": "Python 3",
   "language": "python",
   "name": "python3"
  },
  "language_info": {
   "codemirror_mode": {
    "name": "ipython",
    "version": 3
   },
   "file_extension": ".py",
   "mimetype": "text/x-python",
   "name": "python",
   "nbconvert_exporter": "python",
   "pygments_lexer": "ipython3",
   "version": "3.13.7"
  }
 },
 "nbformat": 4,
 "nbformat_minor": 5
}
