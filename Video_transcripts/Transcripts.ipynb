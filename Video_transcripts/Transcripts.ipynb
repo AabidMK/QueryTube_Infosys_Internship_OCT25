{
  "nbformat": 4,
  "nbformat_minor": 0,
  "metadata": {
    "colab": {
      "provenance": []
    },
    "kernelspec": {
      "name": "python3",
      "display_name": "Python 3"
    },
    "language_info": {
      "name": "python"
    }
  },
  "cells": [
    {
      "cell_type": "code",
      "source": [
        "pip install youtube-transcript-api pandas"
      ],
      "metadata": {
        "colab": {
          "base_uri": "https://localhost:8080/"
        },
        "id": "VO-9b85I5nK0",
        "outputId": "6df2720f-f7c8-4492-b508-4f6c3a6bea27"
      },
      "execution_count": null,
      "outputs": [
        {
          "output_type": "stream",
          "name": "stdout",
          "text": [
            "Collecting youtube-transcript-api\n",
            "  Downloading youtube_transcript_api-1.2.3-py3-none-any.whl.metadata (24 kB)\n",
            "Requirement already satisfied: pandas in /usr/local/lib/python3.12/dist-packages (2.2.2)\n",
            "Requirement already satisfied: defusedxml<0.8.0,>=0.7.1 in /usr/local/lib/python3.12/dist-packages (from youtube-transcript-api) (0.7.1)\n",
            "Requirement already satisfied: requests in /usr/local/lib/python3.12/dist-packages (from youtube-transcript-api) (2.32.4)\n",
            "Requirement already satisfied: numpy>=1.26.0 in /usr/local/lib/python3.12/dist-packages (from pandas) (2.0.2)\n",
            "Requirement already satisfied: python-dateutil>=2.8.2 in /usr/local/lib/python3.12/dist-packages (from pandas) (2.9.0.post0)\n",
            "Requirement already satisfied: pytz>=2020.1 in /usr/local/lib/python3.12/dist-packages (from pandas) (2025.2)\n",
            "Requirement already satisfied: tzdata>=2022.7 in /usr/local/lib/python3.12/dist-packages (from pandas) (2025.2)\n",
            "Requirement already satisfied: six>=1.5 in /usr/local/lib/python3.12/dist-packages (from python-dateutil>=2.8.2->pandas) (1.17.0)\n",
            "Requirement already satisfied: charset_normalizer<4,>=2 in /usr/local/lib/python3.12/dist-packages (from requests->youtube-transcript-api) (3.4.4)\n",
            "Requirement already satisfied: idna<4,>=2.5 in /usr/local/lib/python3.12/dist-packages (from requests->youtube-transcript-api) (3.11)\n",
            "Requirement already satisfied: urllib3<3,>=1.21.1 in /usr/local/lib/python3.12/dist-packages (from requests->youtube-transcript-api) (2.5.0)\n",
            "Requirement already satisfied: certifi>=2017.4.17 in /usr/local/lib/python3.12/dist-packages (from requests->youtube-transcript-api) (2025.10.5)\n",
            "Downloading youtube_transcript_api-1.2.3-py3-none-any.whl (485 kB)\n",
            "\u001b[?25l   \u001b[90m━━━━━━━━━━━━━━━━━━━━━━━━━━━━━━━━━━━━━━━━\u001b[0m \u001b[32m0.0/485.1 kB\u001b[0m \u001b[31m?\u001b[0m eta \u001b[36m-:--:--\u001b[0m\r\u001b[2K   \u001b[90m━━━━━━━━━━━━━━━━━━━━━━━━━━━━━━━━━━━━━━━━\u001b[0m \u001b[32m485.1/485.1 kB\u001b[0m \u001b[31m14.4 MB/s\u001b[0m eta \u001b[36m0:00:00\u001b[0m\n",
            "\u001b[?25hInstalling collected packages: youtube-transcript-api\n",
            "Successfully installed youtube-transcript-api-1.2.3\n"
          ]
        }
      ]
    },
    {
      "cell_type": "code",
      "execution_count": null,
      "metadata": {
        "colab": {
          "base_uri": "https://localhost:8080/"
        },
        "id": "hw14rqWZ5jgk",
        "outputId": "5499b538-61ff-40b4-c55c-2e2f8976025a"
      },
      "outputs": [
        {
          "output_type": "stream",
          "name": "stdout",
          "text": [
            "✅ Loaded existing progress: 50 videos\n",
            "📺 Videos remaining: 10\n",
            "\n",
            "🎬 Processing 1/10: XMoK33jsgcs\n",
            "✅ Transcript fetched for XMoK33jsgcs\n",
            "\n",
            "🎬 Processing 2/10: 2NfTEi1CyYs\n",
            "✅ Transcript fetched for 2NfTEi1CyYs\n",
            "\n",
            "🎬 Processing 3/10: M-DzoNzmJI0\n",
            "✅ Transcript fetched for M-DzoNzmJI0\n",
            "\n",
            "🎬 Processing 4/10: Fmw1i1cBYq4\n",
            "✅ Transcript fetched for Fmw1i1cBYq4\n",
            "\n",
            "🎬 Processing 5/10: 2TWCEdezzqI\n",
            "✅ Transcript fetched for 2TWCEdezzqI\n",
            "\n",
            "🎬 Processing 6/10: Rf9jbnzt2UU\n",
            "✅ Transcript fetched for Rf9jbnzt2UU\n",
            "\n",
            "🎬 Processing 7/10: 02dzgC_Ba70\n",
            "✅ Transcript fetched for 02dzgC_Ba70\n",
            "\n",
            "🎬 Processing 8/10: 304i_BWgXNc\n",
            "✅ Transcript fetched for 304i_BWgXNc\n",
            "\n",
            "🎬 Processing 9/10: cp0_xWxLGaI\n",
            "✅ Transcript fetched for cp0_xWxLGaI\n",
            "\n",
            "🎬 Processing 10/10: e8aWaQAb574\n",
            "✅ Transcript fetched for e8aWaQAb574\n",
            "\n",
            "💾 Progress saved in 'videos_with_transcripts.csv'\n",
            "🔁 Next time you run the script, it will continue from where it stopped!\n"
          ]
        }
      ],
      "source": [
        "import pandas as pd\n",
        "import time\n",
        "import os\n",
        "from youtube_transcript_api._api import YouTubeTranscriptApi\n",
        "from youtube_transcript_api._errors import TranscriptsDisabled, NoTranscriptFound\n",
        "import csv\n",
        "\n",
        "\n",
        "INPUT_FILE = \"/content/drive/MyDrive/queryTubeVideoDataset.csv\"\n",
        "OUTPUT_FILE = \"transcripts.csv\"\n",
        "BATCH_SIZE = 10\n",
        "DELAY = 10\n",
        "\n",
        "# LOAD EXISTING PROGRESS\n",
        "if os.path.exists(OUTPUT_FILE):\n",
        "    df = pd.read_csv(OUTPUT_FILE)\n",
        "    print(f\"Loaded existing progress: {len(df)} videos\")\n",
        "else:\n",
        "    df = pd.read_csv(INPUT_FILE)\n",
        "    df[\"transcript\"] = None\n",
        "\n",
        "# Filter videos that don't have transcripts yet\n",
        "pending_videos = df[df[\"transcript\"].isna()]\n",
        "print(f\"Videos remaining: {len(pending_videos)}\")\n",
        "\n",
        "# Process only up to the batch limit\n",
        "video_ids = pending_videos[\"id\"].tolist()[:BATCH_SIZE]\n",
        "\n",
        "ytt_api = YouTubeTranscriptApi()\n",
        "\n",
        "for i, vid in enumerate(video_ids, start=1):\n",
        "    print(f\"\\nProcessing {i}/{BATCH_SIZE}: {vid}\")\n",
        "    try:\n",
        "        transcript = ytt_api.fetch(vid)\n",
        "        transcript_text = \" \".join([snippet.text for snippet in transcript])\n",
        "        df.loc[df[\"id\"] == vid, \"transcript\"] = transcript_text\n",
        "        print(f\"Transcript fetched for {vid}\")\n",
        "    except NoTranscriptFound:\n",
        "        print(f\"No transcript found for {vid}\")\n",
        "        df.loc[df[\"id\"] == vid, \"transcript\"] = \"No transcript found\"\n",
        "    except TranscriptsDisabled:\n",
        "        print(f\"Transcripts disabled for {vid}\")\n",
        "        df.loc[df[\"id\"] == vid, \"transcript\"] = \"Transcripts disabled\"\n",
        "    except Exception as e:\n",
        "        print(f\"Error fetching transcript for {vid}: {e}\")\n",
        "        break  # stop here to prevent IP ban\n",
        "\n",
        "    # Delay to avoid IP blocks\n",
        "    time.sleep(DELAY)\n",
        "\n",
        "# Save progress\n",
        "df.to_csv(OUTPUT_FILE,\n",
        "    index=False,\n",
        "    encoding=\"utf-8\",\n",
        "    quoting=csv.QUOTE_ALL)\n",
        "print(\"\\n Progress saved in 'videos_with_transcripts.csv'\")\n",
        "print(f\" Next time you run the script, it will continue from where it stopped!\")\n"
      ]
    }
  ]
}